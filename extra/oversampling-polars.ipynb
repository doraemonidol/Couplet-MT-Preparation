{
  "nbformat": 4,
  "nbformat_minor": 0,
  "metadata": {
    "colab": {
      "provenance": [],
      "authorship_tag": "ABX9TyPassK4QDrGSCICUVOJTGYY",
      "include_colab_link": true
    },
    "kernelspec": {
      "name": "python3",
      "display_name": "Python 3"
    },
    "language_info": {
      "name": "python"
    }
  },
  "cells": [
    {
      "cell_type": "markdown",
      "metadata": {
        "id": "view-in-github",
        "colab_type": "text"
      },
      "source": [
        "<a href=\"https://colab.research.google.com/github/ymoslem/MT-Preparation/blob/main/extra/oversampling-polars.ipynb\" target=\"_parent\"><img src=\"https://colab.research.google.com/assets/colab-badge.svg\" alt=\"Open In Colab\"/></a>"
      ]
    },
    {
      "cell_type": "markdown",
      "source": [
        "# Oversampling\n",
        "\n",
        "In some toolkits like OpenNMT{py,tf}, you can apply oversampling during training using the \"dataset weights\" feature. However, this notebook explains how to apply it *manually* to datasets as part of data preperation, using *Polars*."
      ],
      "metadata": {
        "id": "z75t1_vT7vbM"
      }
    },
    {
      "cell_type": "code",
      "source": [
        "import polars as pl"
      ],
      "metadata": {
        "id": "z801CR8RSWVB"
      },
      "execution_count": 1,
      "outputs": []
    },
    {
      "cell_type": "code",
      "source": [
        "data = {\n",
        "        \"label\": [0, 0, 0, 0, 1, 1, 1, 1, 1, 1, 1, 1, 1, 1, 1, 1, 1, 1, 1, 1],\n",
        "        \"source\": [\n",
        "                  \"Sunny skies and gentle breeze.\",\n",
        "                  \"Rainy with thunderstorms in evening.\",\n",
        "                  \"Clear night with a full moon.\",\n",
        "                  \"Cloudy and cool, chance of showers.\",\n",
        "                  \"Students gather, eager to learn.\",\n",
        "                  \"New books, fresh start, endless possibilities.\",\n",
        "                  \"Friends reunite, laughter fills corridors.\",\n",
        "                  \"Teachers inspire, minds come alive.\",\n",
        "                  \"Busy hallways, buzzing with excitement.\",\n",
        "                  \"Homework assignments, challenges to conquer.\",\n",
        "                  \"Exploring new subjects, expanding knowledge.\",\n",
        "                  \"Lunchtime chatter, delicious meals shared.\",\n",
        "                  \"Sports teams practice, readying for competition.\",\n",
        "                  \"Art projects, creativity unleashed on canvas.\",\n",
        "                  \"Science experiments, discoveries waiting ahead.\",\n",
        "                  \"Math problems solved, confidence grows.\",\n",
        "                  \"Field trips, adventures beyond classroom.\",\n",
        "                  \"Class discussions, diverse ideas shared.\",\n",
        "                  \"Exam time, studying late nights.\",\n",
        "                  \"Graduation nears, futures take shape.\"\n",
        "  ],\n",
        "        \"target\": [\n",
        "                  \"Ciel ensoleillé et légère brise.\",\n",
        "                  \"Pluvieux avec des orages le soir.\",\n",
        "                  \"Nuit claire avec une pleine lune.\",\n",
        "                  \"Nuageux et frais, risque d'averses.\",\n",
        "                  \"Les élèves se rassemblent, impatients d'apprendre.\",\n",
        "                  \"Nouveaux livres, nouveau départ, possibilités infinies.\",\n",
        "                  \"Les amis se retrouvent, les couloirs résonnent de rires.\",\n",
        "                  \"Les enseignants inspirent, les esprits s'éveillent.\",\n",
        "                  \"Couloirs animés, bourdonnant d'excitation.\",\n",
        "                  \"Devoirs à faire, défis à relever.\",\n",
        "                  \"Exploration de nouvelles matières, élargissement des connaissances.\",\n",
        "                  \"Bavardages à l'heure du déjeuner, repas délicieux partagés.\",\n",
        "                  \"Les équipes sportives s'entraînent, se préparant à la compétition.\",\n",
        "                  \"Projets artistiques, créativité libérée sur la toile.\",\n",
        "                  \"Expériences scientifiques, découvertes en attente.\",\n",
        "                  \"Problèmes de maths résolus, confiance qui grandit.\",\n",
        "                  \"Sorties scolaires, aventures au-delà de la salle de classe.\",\n",
        "                  \"Discussions en classe, partage d'idées diverses.\",\n",
        "                  \"Temps des examens, études jusqu'à tard dans la nuit.\",\n",
        "                  \"La remise des diplômes approche, les futurs prennent forme.\"\n",
        "  ]\n",
        "}"
      ],
      "metadata": {
        "id": "P-hEmPvZ_XsU"
      },
      "execution_count": 3,
      "outputs": []
    },
    {
      "cell_type": "markdown",
      "source": [
        "Assume that \"data\" includes two domains. We will use the lable *0* for the domain with larger data, and label *1* for the domain with smaller data. In this toy example, the first domain has 4 translation pairs, while the second domain has 16 translation pairs."
      ],
      "metadata": {
        "id": "1tAznA5D9JJ3"
      }
    },
    {
      "cell_type": "code",
      "source": [
        "df = pl.DataFrame(data)"
      ],
      "metadata": {
        "id": "9g4I8JxuSZgn"
      },
      "execution_count": 4,
      "outputs": []
    },
    {
      "cell_type": "code",
      "source": [
        "print(df.shape)\n",
        "\n",
        "df"
      ],
      "metadata": {
        "colab": {
          "base_uri": "https://localhost:8080/",
          "height": 461
        },
        "id": "-At9OM_CTfGx",
        "outputId": "0d6ac294-f81b-4b74-f5b0-d962e88d226b"
      },
      "execution_count": 5,
      "outputs": [
        {
          "output_type": "stream",
          "name": "stdout",
          "text": [
            "(20, 3)\n"
          ]
        },
        {
          "output_type": "execute_result",
          "data": {
            "text/plain": [
              "shape: (20, 3)\n",
              "┌───────┬─────────────────────────────────┬─────────────────────────────────┐\n",
              "│ label ┆ source                          ┆ target                          │\n",
              "│ ---   ┆ ---                             ┆ ---                             │\n",
              "│ i64   ┆ str                             ┆ str                             │\n",
              "╞═══════╪═════════════════════════════════╪═════════════════════════════════╡\n",
              "│ 0     ┆ Sunny skies and gentle breeze.  ┆ Ciel ensoleillé et légère bris… │\n",
              "│ 0     ┆ Rainy with thunderstorms in ev… ┆ Pluvieux avec des orages le so… │\n",
              "│ 0     ┆ Clear night with a full moon.   ┆ Nuit claire avec une pleine lu… │\n",
              "│ 0     ┆ Cloudy and cool, chance of sho… ┆ Nuageux et frais, risque d'ave… │\n",
              "│ 1     ┆ Students gather, eager to lear… ┆ Les élèves se rassemblent, imp… │\n",
              "│ …     ┆ …                               ┆ …                               │\n",
              "│ 1     ┆ Math problems solved, confiden… ┆ Problèmes de maths résolus, co… │\n",
              "│ 1     ┆ Field trips, adventures beyond… ┆ Sorties scolaires, aventures a… │\n",
              "│ 1     ┆ Class discussions, diverse ide… ┆ Discussions en classe, partage… │\n",
              "│ 1     ┆ Exam time, studying late night… ┆ Temps des examens, études jusq… │\n",
              "│ 1     ┆ Graduation nears, futures take… ┆ La remise des diplômes approch… │\n",
              "└───────┴─────────────────────────────────┴─────────────────────────────────┘"
            ],
            "text/html": [
              "<div><style>\n",
              ".dataframe > thead > tr,\n",
              ".dataframe > tbody > tr {\n",
              "  text-align: right;\n",
              "  white-space: pre-wrap;\n",
              "}\n",
              "</style>\n",
              "<small>shape: (20, 3)</small><table border=\"1\" class=\"dataframe\"><thead><tr><th>label</th><th>source</th><th>target</th></tr><tr><td>i64</td><td>str</td><td>str</td></tr></thead><tbody><tr><td>0</td><td>&quot;Sunny skies and gentle breeze.&quot;</td><td>&quot;Ciel ensoleillé et légère bris…</td></tr><tr><td>0</td><td>&quot;Rainy with thunderstorms in ev…</td><td>&quot;Pluvieux avec des orages le so…</td></tr><tr><td>0</td><td>&quot;Clear night with a full moon.&quot;</td><td>&quot;Nuit claire avec une pleine lu…</td></tr><tr><td>0</td><td>&quot;Cloudy and cool, chance of sho…</td><td>&quot;Nuageux et frais, risque d&#x27;ave…</td></tr><tr><td>1</td><td>&quot;Students gather, eager to lear…</td><td>&quot;Les élèves se rassemblent, imp…</td></tr><tr><td>&hellip;</td><td>&hellip;</td><td>&hellip;</td></tr><tr><td>1</td><td>&quot;Math problems solved, confiden…</td><td>&quot;Problèmes de maths résolus, co…</td></tr><tr><td>1</td><td>&quot;Field trips, adventures beyond…</td><td>&quot;Sorties scolaires, aventures a…</td></tr><tr><td>1</td><td>&quot;Class discussions, diverse ide…</td><td>&quot;Discussions en classe, partage…</td></tr><tr><td>1</td><td>&quot;Exam time, studying late night…</td><td>&quot;Temps des examens, études jusq…</td></tr><tr><td>1</td><td>&quot;Graduation nears, futures take…</td><td>&quot;La remise des diplômes approch…</td></tr></tbody></table></div>"
            ]
          },
          "metadata": {},
          "execution_count": 5
        }
      ]
    },
    {
      "cell_type": "markdown",
      "source": [
        "Now, let's randomly oversample the smaller domain data (with label *0*), to make it more balanced. In this case, it will now have the same number of translation pairs as the larger domain data (with label *1*)."
      ],
      "metadata": {
        "id": "qcEi7HSl9nmv"
      }
    },
    {
      "cell_type": "code",
      "source": [
        "import polars as pl\n",
        "\n",
        "# Get the max class count\n",
        "most = df[\"label\"].value_counts()[\"count\"].max()\n",
        "\n",
        "# Oversampling using group_by and map_groups\n",
        "df_balanced = (\n",
        "    df.group_by(\"label\", maintain_order=True)\n",
        "    .map_groups(lambda group: group.sample(n=most, shuffle=True, with_replacement=True))\n",
        ")\n",
        "\n",
        "print(df_balanced.shape)\n",
        "print(df_balanced[\"label\"].value_counts())  # Verify class balance\n"
      ],
      "metadata": {
        "colab": {
          "base_uri": "https://localhost:8080/"
        },
        "id": "FnzWa0d0PosQ",
        "outputId": "4ff3e13c-d30f-4c24-a06b-136a49610380"
      },
      "execution_count": 6,
      "outputs": [
        {
          "output_type": "stream",
          "name": "stdout",
          "text": [
            "(32, 3)\n",
            "shape: (2, 2)\n",
            "┌───────┬───────┐\n",
            "│ label ┆ count │\n",
            "│ ---   ┆ ---   │\n",
            "│ i64   ┆ u32   │\n",
            "╞═══════╪═══════╡\n",
            "│ 1     ┆ 16    │\n",
            "│ 0     ┆ 16    │\n",
            "└───────┴───────┘\n"
          ]
        }
      ]
    },
    {
      "cell_type": "markdown",
      "source": [
        "Compare the new dataframe with the original one, and notice how the data with the lable *0* is now oversampled. Congratulations, now you have a balanced dataset!"
      ],
      "metadata": {
        "id": "hq2QUy9v-JxB"
      }
    },
    {
      "cell_type": "code",
      "source": [
        "df_balanced"
      ],
      "metadata": {
        "colab": {
          "base_uri": "https://localhost:8080/",
          "height": 443
        },
        "id": "Vh7KsmUgMo95",
        "outputId": "ce036dbc-34c6-4dd7-87fe-4191eec9931e"
      },
      "execution_count": 12,
      "outputs": [
        {
          "output_type": "execute_result",
          "data": {
            "text/plain": [
              "shape: (32, 3)\n",
              "┌───────┬─────────────────────────────────┬─────────────────────────────────┐\n",
              "│ label ┆ source                          ┆ target                          │\n",
              "│ ---   ┆ ---                             ┆ ---                             │\n",
              "│ i64   ┆ str                             ┆ str                             │\n",
              "╞═══════╪═════════════════════════════════╪═════════════════════════════════╡\n",
              "│ 0     ┆ Clear night with a full moon.   ┆ Nuit claire avec une pleine lu… │\n",
              "│ 0     ┆ Rainy with thunderstorms in ev… ┆ Pluvieux avec des orages le so… │\n",
              "│ 0     ┆ Rainy with thunderstorms in ev… ┆ Pluvieux avec des orages le so… │\n",
              "│ 0     ┆ Sunny skies and gentle breeze.  ┆ Ciel ensoleillé et légère bris… │\n",
              "│ 0     ┆ Cloudy and cool, chance of sho… ┆ Nuageux et frais, risque d'ave… │\n",
              "│ …     ┆ …                               ┆ …                               │\n",
              "│ 1     ┆ Science experiments, discoveri… ┆ Expériences scientifiques, déc… │\n",
              "│ 1     ┆ Lunchtime chatter, delicious m… ┆ Bavardages à l'heure du déjeun… │\n",
              "│ 1     ┆ Exploring new subjects, expand… ┆ Exploration de nouvelles matiè… │\n",
              "│ 1     ┆ Students gather, eager to lear… ┆ Les élèves se rassemblent, imp… │\n",
              "│ 1     ┆ Science experiments, discoveri… ┆ Expériences scientifiques, déc… │\n",
              "└───────┴─────────────────────────────────┴─────────────────────────────────┘"
            ],
            "text/html": [
              "<div><style>\n",
              ".dataframe > thead > tr,\n",
              ".dataframe > tbody > tr {\n",
              "  text-align: right;\n",
              "  white-space: pre-wrap;\n",
              "}\n",
              "</style>\n",
              "<small>shape: (32, 3)</small><table border=\"1\" class=\"dataframe\"><thead><tr><th>label</th><th>source</th><th>target</th></tr><tr><td>i64</td><td>str</td><td>str</td></tr></thead><tbody><tr><td>0</td><td>&quot;Clear night with a full moon.&quot;</td><td>&quot;Nuit claire avec une pleine lu…</td></tr><tr><td>0</td><td>&quot;Rainy with thunderstorms in ev…</td><td>&quot;Pluvieux avec des orages le so…</td></tr><tr><td>0</td><td>&quot;Rainy with thunderstorms in ev…</td><td>&quot;Pluvieux avec des orages le so…</td></tr><tr><td>0</td><td>&quot;Sunny skies and gentle breeze.&quot;</td><td>&quot;Ciel ensoleillé et légère bris…</td></tr><tr><td>0</td><td>&quot;Cloudy and cool, chance of sho…</td><td>&quot;Nuageux et frais, risque d&#x27;ave…</td></tr><tr><td>&hellip;</td><td>&hellip;</td><td>&hellip;</td></tr><tr><td>1</td><td>&quot;Science experiments, discoveri…</td><td>&quot;Expériences scientifiques, déc…</td></tr><tr><td>1</td><td>&quot;Lunchtime chatter, delicious m…</td><td>&quot;Bavardages à l&#x27;heure du déjeun…</td></tr><tr><td>1</td><td>&quot;Exploring new subjects, expand…</td><td>&quot;Exploration de nouvelles matiè…</td></tr><tr><td>1</td><td>&quot;Students gather, eager to lear…</td><td>&quot;Les élèves se rassemblent, imp…</td></tr><tr><td>1</td><td>&quot;Science experiments, discoveri…</td><td>&quot;Expériences scientifiques, déc…</td></tr></tbody></table></div>"
            ]
          },
          "metadata": {},
          "execution_count": 12
        }
      ]
    },
    {
      "cell_type": "code",
      "source": [
        "df_balanced.filter(pl.col(\"label\") == 0)"
      ],
      "metadata": {
        "colab": {
          "base_uri": "https://localhost:8080/",
          "height": 443
        },
        "id": "S80pAPn2S5PR",
        "outputId": "a2416e5e-71ec-426c-b3db-6f9b00c740ea"
      },
      "execution_count": 13,
      "outputs": [
        {
          "output_type": "execute_result",
          "data": {
            "text/plain": [
              "shape: (16, 3)\n",
              "┌───────┬─────────────────────────────────┬─────────────────────────────────┐\n",
              "│ label ┆ source                          ┆ target                          │\n",
              "│ ---   ┆ ---                             ┆ ---                             │\n",
              "│ i64   ┆ str                             ┆ str                             │\n",
              "╞═══════╪═════════════════════════════════╪═════════════════════════════════╡\n",
              "│ 0     ┆ Clear night with a full moon.   ┆ Nuit claire avec une pleine lu… │\n",
              "│ 0     ┆ Rainy with thunderstorms in ev… ┆ Pluvieux avec des orages le so… │\n",
              "│ 0     ┆ Rainy with thunderstorms in ev… ┆ Pluvieux avec des orages le so… │\n",
              "│ 0     ┆ Sunny skies and gentle breeze.  ┆ Ciel ensoleillé et légère bris… │\n",
              "│ 0     ┆ Cloudy and cool, chance of sho… ┆ Nuageux et frais, risque d'ave… │\n",
              "│ …     ┆ …                               ┆ …                               │\n",
              "│ 0     ┆ Rainy with thunderstorms in ev… ┆ Pluvieux avec des orages le so… │\n",
              "│ 0     ┆ Rainy with thunderstorms in ev… ┆ Pluvieux avec des orages le so… │\n",
              "│ 0     ┆ Sunny skies and gentle breeze.  ┆ Ciel ensoleillé et légère bris… │\n",
              "│ 0     ┆ Rainy with thunderstorms in ev… ┆ Pluvieux avec des orages le so… │\n",
              "│ 0     ┆ Cloudy and cool, chance of sho… ┆ Nuageux et frais, risque d'ave… │\n",
              "└───────┴─────────────────────────────────┴─────────────────────────────────┘"
            ],
            "text/html": [
              "<div><style>\n",
              ".dataframe > thead > tr,\n",
              ".dataframe > tbody > tr {\n",
              "  text-align: right;\n",
              "  white-space: pre-wrap;\n",
              "}\n",
              "</style>\n",
              "<small>shape: (16, 3)</small><table border=\"1\" class=\"dataframe\"><thead><tr><th>label</th><th>source</th><th>target</th></tr><tr><td>i64</td><td>str</td><td>str</td></tr></thead><tbody><tr><td>0</td><td>&quot;Clear night with a full moon.&quot;</td><td>&quot;Nuit claire avec une pleine lu…</td></tr><tr><td>0</td><td>&quot;Rainy with thunderstorms in ev…</td><td>&quot;Pluvieux avec des orages le so…</td></tr><tr><td>0</td><td>&quot;Rainy with thunderstorms in ev…</td><td>&quot;Pluvieux avec des orages le so…</td></tr><tr><td>0</td><td>&quot;Sunny skies and gentle breeze.&quot;</td><td>&quot;Ciel ensoleillé et légère bris…</td></tr><tr><td>0</td><td>&quot;Cloudy and cool, chance of sho…</td><td>&quot;Nuageux et frais, risque d&#x27;ave…</td></tr><tr><td>&hellip;</td><td>&hellip;</td><td>&hellip;</td></tr><tr><td>0</td><td>&quot;Rainy with thunderstorms in ev…</td><td>&quot;Pluvieux avec des orages le so…</td></tr><tr><td>0</td><td>&quot;Rainy with thunderstorms in ev…</td><td>&quot;Pluvieux avec des orages le so…</td></tr><tr><td>0</td><td>&quot;Sunny skies and gentle breeze.&quot;</td><td>&quot;Ciel ensoleillé et légère bris…</td></tr><tr><td>0</td><td>&quot;Rainy with thunderstorms in ev…</td><td>&quot;Pluvieux avec des orages le so…</td></tr><tr><td>0</td><td>&quot;Cloudy and cool, chance of sho…</td><td>&quot;Nuageux et frais, risque d&#x27;ave…</td></tr></tbody></table></div>"
            ]
          },
          "metadata": {},
          "execution_count": 13
        }
      ]
    }
  ]
}